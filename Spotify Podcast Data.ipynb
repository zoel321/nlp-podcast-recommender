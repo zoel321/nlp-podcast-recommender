{
 "cells": [
  {
   "cell_type": "markdown",
   "id": "bdb62831",
   "metadata": {},
   "source": [
    "### References I used to get data:\n",
    "\n",
    "Code:\n",
    "https://github.com/sam-brady/spotify-podcasts/blob/master/Spotify%20Podcasts.ipynb\n",
    "https://medium.com/web-mining-is688-spring-2021/preliminary-data-analysis-on-spotify-data-using-api-a84bb0aae00c\n",
    "\n",
    "Documentation:\n",
    "https://spotipy.readthedocs.io/en/2.19.0/#spotipy.client.Spotify.audio_features\n",
    "https://developer.spotify.com/documentation/web-api/reference/#/operations/get-a-shows-episodes\n",
    "https://developer.spotify.com/console/get-search-item/\n",
    "https://developer.spotify.com/community/news/2020/03/20/introducing-podcasts-api/"
   ]
  },
  {
   "cell_type": "code",
   "execution_count": 98,
   "id": "2ca7f9a4",
   "metadata": {},
   "outputs": [],
   "source": [
    "import requests\n",
    "import pickle"
   ]
  },
  {
   "cell_type": "code",
   "execution_count": 5,
   "id": "c5ecdda6",
   "metadata": {},
   "outputs": [
    {
     "name": "stdout",
     "output_type": "stream",
     "text": [
      "Collecting spotipy\n",
      "  Using cached spotipy-2.19.0-py3-none-any.whl (27 kB)\n",
      "Requirement already satisfied: six>=1.15.0 in /Users/zliao/opt/anaconda3/envs/metis/lib/python3.9/site-packages (from spotipy) (1.16.0)\n",
      "Requirement already satisfied: urllib3>=1.26.0 in /Users/zliao/opt/anaconda3/envs/metis/lib/python3.9/site-packages (from spotipy) (1.26.7)\n",
      "Requirement already satisfied: requests>=2.25.0 in /Users/zliao/opt/anaconda3/envs/metis/lib/python3.9/site-packages (from spotipy) (2.26.0)\n",
      "Requirement already satisfied: charset-normalizer~=2.0.0 in /Users/zliao/opt/anaconda3/envs/metis/lib/python3.9/site-packages (from requests>=2.25.0->spotipy) (2.0.0)\n",
      "Requirement already satisfied: idna<4,>=2.5 in /Users/zliao/opt/anaconda3/envs/metis/lib/python3.9/site-packages (from requests>=2.25.0->spotipy) (3.1)\n",
      "Requirement already satisfied: certifi>=2017.4.17 in /Users/zliao/opt/anaconda3/envs/metis/lib/python3.9/site-packages (from requests>=2.25.0->spotipy) (2021.10.8)\n",
      "Installing collected packages: spotipy\n",
      "Successfully installed spotipy-2.19.0\n",
      "Note: you may need to restart the kernel to use updated packages.\n"
     ]
    }
   ],
   "source": [
    "# pip install spotipy --upgrade"
   ]
  },
  {
   "cell_type": "code",
   "execution_count": 6,
   "id": "32d99d8f",
   "metadata": {
    "scrolled": true
   },
   "outputs": [],
   "source": [
    "import spotipy\n",
    "from spotipy.oauth2 import SpotifyClientCredentials"
   ]
  },
  {
   "cell_type": "code",
   "execution_count": 7,
   "id": "6798d48e",
   "metadata": {},
   "outputs": [],
   "source": [
    "import pandas as pd\n",
    "import numpy as np\n"
   ]
  },
  {
   "cell_type": "code",
   "execution_count": null,
   "id": "cec03c11",
   "metadata": {},
   "outputs": [],
   "source": [
    "#set temporary environment variables\n",
    "#export SPOTIPY_CLIENT_ID='...'\n",
    "#export SPOTIPY_CLIENT_SECRET='...'"
   ]
  },
  {
   "cell_type": "code",
   "execution_count": 10,
   "id": "f2950f1a",
   "metadata": {},
   "outputs": [],
   "source": [
    "auth_manager = SpotifyClientCredentials()\n",
    "sp = spotipy.Spotify(auth_manager=auth_manager)"
   ]
  },
  {
   "cell_type": "markdown",
   "id": "d33d852e",
   "metadata": {},
   "source": [
    "### Getting list of Spotify Show IDs for podcasts related to \"mental health\""
   ]
  },
  {
   "cell_type": "code",
   "execution_count": 23,
   "id": "10b8c7a7",
   "metadata": {},
   "outputs": [],
   "source": [
    "show_ids = []\n",
    "show_names = []\n",
    "show_descriptions = []\n",
    "\n",
    "limit = 50\n",
    "offset = 0\n",
    "q = \"mental%20health\"          \n",
    "                        "
   ]
  },
  {
   "cell_type": "code",
   "execution_count": 24,
   "id": "16bf6ab1",
   "metadata": {},
   "outputs": [],
   "source": [
    "while offset <= 300:\n",
    "    results = sp.search(q, limit, offset, type='show', market='US')['shows']['items']\n",
    "    for i in range(len(results)):\n",
    "        show_ids.append(results[i]['id'])\n",
    "        show_names.append(results[i]['name'])\n",
    "        show_descriptions.append(results[i]['description'])\n",
    "    offset += 50   "
   ]
  },
  {
   "cell_type": "code",
   "execution_count": 25,
   "id": "88622e5d",
   "metadata": {},
   "outputs": [],
   "source": [
    "mh_podcasts = pd.DataFrame()\n",
    "\n",
    "mh_podcasts['Podcast_Name'] = show_names\n",
    "mh_podcasts['Podcast_ShowID'] = show_ids\n",
    "mh_podcasts['Podcast_Description'] = show_descriptions"
   ]
  },
  {
   "cell_type": "code",
   "execution_count": 37,
   "id": "a8e49394",
   "metadata": {
    "scrolled": true
   },
   "outputs": [
    {
     "data": {
      "text/plain": [
       "'Gen-Z hosts Bennett Scheer and Lorraine Affigne are on a mission to make mental health mainstream. They talk about things that anyone who’s struggled can relate to. They also welcome friends and other guests for unique conversations about mental health. From the pressures of living in the world of social media, to coping with the challenges of living in 2022, each host and every guest has a fresh perspective. No matter what you’re going through, Mental Health on the Mic is here for you. Be sure to check out our website: https://www.mentalhealthonthemic.com and follow us on Instagram and TikTok @mentalhealthonthemic for more content!!'"
      ]
     },
     "execution_count": 37,
     "metadata": {},
     "output_type": "execute_result"
    }
   ],
   "source": [
    "mh_podcasts.Podcast_Description[100]"
   ]
  },
  {
   "cell_type": "code",
   "execution_count": 34,
   "id": "79f323fc",
   "metadata": {
    "scrolled": true
   },
   "outputs": [
    {
     "data": {
      "text/plain": [
       "0      (2020) Mental Health Explained | Created By Yo...\n",
       "1      Being African American in 2021 and dealing wit...\n",
       "2                                  Aubrey Marcus Podcast\n",
       "3             Unfazed and Unbothered with Tasia and Camo\n",
       "4                                       Barbell Shrugged\n",
       "                             ...                        \n",
       "345               Happy and Healthy Mind with Dr. Rozina\n",
       "346                                          NAH Podcast\n",
       "347                                   Healthcare Insight\n",
       "348              Mental Health Education in High Schools\n",
       "349                     Prabhat Ranjan Sarkar Discourses\n",
       "Name: Podcast_Name, Length: 350, dtype: object"
      ]
     },
     "execution_count": 34,
     "metadata": {},
     "output_type": "execute_result"
    }
   ],
   "source": [
    "mh_podcasts['Podcast_Name']"
   ]
  },
  {
   "cell_type": "code",
   "execution_count": 100,
   "id": "85252242",
   "metadata": {},
   "outputs": [],
   "source": [
    "mh_podcasts.to_csv('just_podcasts.csv')"
   ]
  },
  {
   "cell_type": "code",
   "execution_count": 101,
   "id": "cdf19722",
   "metadata": {},
   "outputs": [],
   "source": [
    "mh_podcasts.to_pickle('just_podcasts.pkl')"
   ]
  },
  {
   "cell_type": "markdown",
   "id": "8debcb32",
   "metadata": {},
   "source": [
    "### Getting episodes and their descriptions for each show in show_list"
   ]
  },
  {
   "cell_type": "code",
   "execution_count": 57,
   "id": "0c5f8ff2",
   "metadata": {},
   "outputs": [],
   "source": [
    "show_id_list = [] #repeats to keep track\n",
    "ep_ids = []\n",
    "ep_dates = []\n",
    "ep_names = []\n",
    "ep_desc = []"
   ]
  },
  {
   "cell_type": "code",
   "execution_count": 66,
   "id": "a9ef6a97",
   "metadata": {},
   "outputs": [],
   "source": [
    "for show in show_ids:\n",
    "    limit = 50\n",
    "    offset = 0\n",
    "    more = 1\n",
    "    counter = 0\n",
    "    \n",
    "    while ((offset<= 950) & (counter <= more)):\n",
    "        response = sp.show_episodes(show, limit, offset, market = 'US')\n",
    "        \n",
    "        offset += 50\n",
    "        counter += 1\n",
    "        \n",
    "        if next(iter(response)) != 'error':\n",
    "            for i in range(len(response['items'])):\n",
    "                show_id_list.append(show)\n",
    "                ep_ids.append(response['items'][i]['id'])\n",
    "                ep_names.append(response['items'][i]['name'])\n",
    "                ep_dates.append(response['items'][i]['release_date'])\n",
    "                ep_desc.append(response['items'][i]['description'])\n",
    "            more = (response['total'] // 50)\n",
    "        else:\n",
    "            offset = 100000\n",
    "            print(response, 'for show id:', show)\n",
    "            "
   ]
  },
  {
   "cell_type": "code",
   "execution_count": 67,
   "id": "9ef833ea",
   "metadata": {
    "scrolled": true
   },
   "outputs": [
    {
     "data": {
      "text/plain": [
       "20745"
      ]
     },
     "execution_count": 67,
     "metadata": {},
     "output_type": "execute_result"
    }
   ],
   "source": [
    "len(ep_ids)"
   ]
  },
  {
   "cell_type": "code",
   "execution_count": 68,
   "id": "4b29e5cd",
   "metadata": {},
   "outputs": [
    {
     "data": {
      "text/plain": [
       "20745"
      ]
     },
     "execution_count": 68,
     "metadata": {},
     "output_type": "execute_result"
    }
   ],
   "source": [
    "len(ep_names)"
   ]
  },
  {
   "cell_type": "code",
   "execution_count": 69,
   "id": "55026c03",
   "metadata": {},
   "outputs": [
    {
     "data": {
      "text/plain": [
       "20745"
      ]
     },
     "execution_count": 69,
     "metadata": {},
     "output_type": "execute_result"
    }
   ],
   "source": [
    "len(ep_dates)"
   ]
  },
  {
   "cell_type": "code",
   "execution_count": 70,
   "id": "f87fc042",
   "metadata": {},
   "outputs": [
    {
     "data": {
      "text/plain": [
       "20745"
      ]
     },
     "execution_count": 70,
     "metadata": {},
     "output_type": "execute_result"
    }
   ],
   "source": [
    "len(show_id_list)"
   ]
  },
  {
   "cell_type": "code",
   "execution_count": 71,
   "id": "bc858159",
   "metadata": {},
   "outputs": [],
   "source": [
    "all_eps = pd.DataFrame()\n",
    "\n",
    "all_eps['Show_id'] = show_id_list\n",
    "all_eps['Ep_id'] = ep_ids\n",
    "all_eps['Ep_name'] = ep_names\n",
    "all_eps['Ep_date'] = ep_dates\n",
    "all_eps['Ep_desc'] = ep_desc"
   ]
  },
  {
   "cell_type": "code",
   "execution_count": 73,
   "id": "20cbea67",
   "metadata": {},
   "outputs": [],
   "source": [
    "ep_counts = all_eps['Show_id'].value_counts()"
   ]
  },
  {
   "cell_type": "code",
   "execution_count": 74,
   "id": "69165ce8",
   "metadata": {},
   "outputs": [],
   "source": [
    "few_eps = list(ep_counts[ep_counts < 10].index)"
   ]
  },
  {
   "cell_type": "code",
   "execution_count": 76,
   "id": "12a464f2",
   "metadata": {},
   "outputs": [
    {
     "data": {
      "text/plain": [
       "111"
      ]
     },
     "execution_count": 76,
     "metadata": {},
     "output_type": "execute_result"
    }
   ],
   "source": [
    "len(few_eps)\n",
    "#111 podcasts have less than 10 eps"
   ]
  },
  {
   "cell_type": "markdown",
   "id": "d8ad9de6",
   "metadata": {},
   "source": [
    "#### Replace show_id in dataframe with show name"
   ]
  },
  {
   "cell_type": "code",
   "execution_count": 85,
   "id": "7e32aeb5",
   "metadata": {},
   "outputs": [],
   "source": [
    "#creating dictionary of show ids and show names\n",
    "\n",
    "show_dict = mh_podcasts.groupby('Podcast_ShowID')['Podcast_Name'].apply(list).to_dict()"
   ]
  },
  {
   "cell_type": "code",
   "execution_count": 86,
   "id": "da517e05",
   "metadata": {},
   "outputs": [],
   "source": [
    "#map dictionary to show_id in full dataframe\n",
    "all_eps['Show_id'] = all_eps['Show_id'].map(show_dict)"
   ]
  },
  {
   "cell_type": "code",
   "execution_count": 88,
   "id": "2c5ea199",
   "metadata": {},
   "outputs": [],
   "source": [
    "#renaming Show_id column to Podcast_Name\n",
    "all_eps.rename(columns = {'Show_id': 'Podcast_Name'}, inplace=True)"
   ]
  },
  {
   "cell_type": "code",
   "execution_count": 94,
   "id": "f340f270",
   "metadata": {},
   "outputs": [],
   "source": [
    "#removing brackets\n",
    "all_eps['Podcast_Name'] = all_eps['Podcast_Name'].str[0]"
   ]
  },
  {
   "cell_type": "code",
   "execution_count": 95,
   "id": "38fef832",
   "metadata": {},
   "outputs": [
    {
     "data": {
      "text/html": [
       "<div>\n",
       "<style scoped>\n",
       "    .dataframe tbody tr th:only-of-type {\n",
       "        vertical-align: middle;\n",
       "    }\n",
       "\n",
       "    .dataframe tbody tr th {\n",
       "        vertical-align: top;\n",
       "    }\n",
       "\n",
       "    .dataframe thead th {\n",
       "        text-align: right;\n",
       "    }\n",
       "</style>\n",
       "<table border=\"1\" class=\"dataframe\">\n",
       "  <thead>\n",
       "    <tr style=\"text-align: right;\">\n",
       "      <th></th>\n",
       "      <th>Podcast_Name</th>\n",
       "      <th>Ep_id</th>\n",
       "      <th>Ep_name</th>\n",
       "      <th>Ep_date</th>\n",
       "      <th>Ep_desc</th>\n",
       "    </tr>\n",
       "  </thead>\n",
       "  <tbody>\n",
       "    <tr>\n",
       "      <th>0</th>\n",
       "      <td>(2020) Mental Health Explained | Created By Yo...</td>\n",
       "      <td>10JraOKEu4gb2dKQEwjhmm</td>\n",
       "      <td>Depression and Tics During Quarantine</td>\n",
       "      <td>2020-12-16</td>\n",
       "      <td>This episode helps explain the effects of quar...</td>\n",
       "    </tr>\n",
       "    <tr>\n",
       "      <th>1</th>\n",
       "      <td>Being African American in 2021 and dealing wit...</td>\n",
       "      <td>4Vs1ajXhg5t53zHNDpM3wu</td>\n",
       "      <td>Chipping away at the mental health stigma</td>\n",
       "      <td>2021-10-11</td>\n",
       "      <td>The Black community has made enormous contribu...</td>\n",
       "    </tr>\n",
       "    <tr>\n",
       "      <th>2</th>\n",
       "      <td>Being African American in 2021 and dealing wit...</td>\n",
       "      <td>6jFW6wq6Pafs0OLAlHVNRh</td>\n",
       "      <td>Being black in America in 2021</td>\n",
       "      <td>2021-10-08</td>\n",
       "      <td>With love for seven addressing mental health i...</td>\n",
       "    </tr>\n",
       "    <tr>\n",
       "      <th>3</th>\n",
       "      <td>Being African American in 2021 and dealing wit...</td>\n",
       "      <td>4F5RugIvvmb8uI5fDqPmhz</td>\n",
       "      <td>Surviving a Narcissistic breakup : The Fear an...</td>\n",
       "      <td>2020-12-12</td>\n",
       "      <td>Moving on and healing from an narcissistic   -...</td>\n",
       "    </tr>\n",
       "    <tr>\n",
       "      <th>4</th>\n",
       "      <td>Being African American in 2021 and dealing wit...</td>\n",
       "      <td>4eEe5dXg47re6BjpeyZdPx</td>\n",
       "      <td>Love and mental health 2020</td>\n",
       "      <td>2020-12-09</td>\n",
       "      <td>Love - relationship, mental health and parenti...</td>\n",
       "    </tr>\n",
       "    <tr>\n",
       "      <th>...</th>\n",
       "      <td>...</td>\n",
       "      <td>...</td>\n",
       "      <td>...</td>\n",
       "      <td>...</td>\n",
       "      <td>...</td>\n",
       "    </tr>\n",
       "    <tr>\n",
       "      <th>20740</th>\n",
       "      <td>Prabhat Ranjan Sarkar Discourses</td>\n",
       "      <td>25in5tuCJCdjRhuB1AcV3P</td>\n",
       "      <td>Be Free From All Complexes</td>\n",
       "      <td>2021-04-21</td>\n",
       "      <td>By PR Sarkar founder of Ananda MargaDiscourse ...</td>\n",
       "    </tr>\n",
       "    <tr>\n",
       "      <th>20741</th>\n",
       "      <td>Prabhat Ranjan Sarkar Discourses</td>\n",
       "      <td>0QUC2IV4S5jlzixvlFsiGZ</td>\n",
       "      <td>Bad Habits Which Should Be Given Up</td>\n",
       "      <td>2021-04-05</td>\n",
       "      <td>By PR Sarkar founder of Ananda MargaDiscourse ...</td>\n",
       "    </tr>\n",
       "    <tr>\n",
       "      <th>20742</th>\n",
       "      <td>Prabhat Ranjan Sarkar Discourses</td>\n",
       "      <td>0MbPRjRYeYAsViwMaYuLKx</td>\n",
       "      <td>Ananda Marga A Revolution</td>\n",
       "      <td>2021-04-02</td>\n",
       "      <td>By PR Sarkar founder of Ananda MargaPublished ...</td>\n",
       "    </tr>\n",
       "    <tr>\n",
       "      <th>20743</th>\n",
       "      <td>Prabhat Ranjan Sarkar Discourses</td>\n",
       "      <td>65Rh9qdEJA4N8Ug2jvJOMK</td>\n",
       "      <td>An Exemplary Life</td>\n",
       "      <td>2021-03-29</td>\n",
       "      <td>Discourse given by Prabhat Ranjan Sarkar on:Ja...</td>\n",
       "    </tr>\n",
       "    <tr>\n",
       "      <th>20744</th>\n",
       "      <td>Prabhat Ranjan Sarkar Discourses</td>\n",
       "      <td>7GVPX4wR6lIKACaAYFydoU</td>\n",
       "      <td>A Devotee's Object of Ideation</td>\n",
       "      <td>2021-03-10</td>\n",
       "      <td>Discourse given by Prabhat Ranjan Sarkar on:No...</td>\n",
       "    </tr>\n",
       "  </tbody>\n",
       "</table>\n",
       "<p>20745 rows × 5 columns</p>\n",
       "</div>"
      ],
      "text/plain": [
       "                                            Podcast_Name  \\\n",
       "0      (2020) Mental Health Explained | Created By Yo...   \n",
       "1      Being African American in 2021 and dealing wit...   \n",
       "2      Being African American in 2021 and dealing wit...   \n",
       "3      Being African American in 2021 and dealing wit...   \n",
       "4      Being African American in 2021 and dealing wit...   \n",
       "...                                                  ...   \n",
       "20740                   Prabhat Ranjan Sarkar Discourses   \n",
       "20741                   Prabhat Ranjan Sarkar Discourses   \n",
       "20742                   Prabhat Ranjan Sarkar Discourses   \n",
       "20743                   Prabhat Ranjan Sarkar Discourses   \n",
       "20744                   Prabhat Ranjan Sarkar Discourses   \n",
       "\n",
       "                        Ep_id  \\\n",
       "0      10JraOKEu4gb2dKQEwjhmm   \n",
       "1      4Vs1ajXhg5t53zHNDpM3wu   \n",
       "2      6jFW6wq6Pafs0OLAlHVNRh   \n",
       "3      4F5RugIvvmb8uI5fDqPmhz   \n",
       "4      4eEe5dXg47re6BjpeyZdPx   \n",
       "...                       ...   \n",
       "20740  25in5tuCJCdjRhuB1AcV3P   \n",
       "20741  0QUC2IV4S5jlzixvlFsiGZ   \n",
       "20742  0MbPRjRYeYAsViwMaYuLKx   \n",
       "20743  65Rh9qdEJA4N8Ug2jvJOMK   \n",
       "20744  7GVPX4wR6lIKACaAYFydoU   \n",
       "\n",
       "                                                 Ep_name     Ep_date  \\\n",
       "0                Depression and Tics During Quarantine    2020-12-16   \n",
       "1             Chipping away at the mental health stigma   2021-10-11   \n",
       "2                         Being black in America in 2021  2021-10-08   \n",
       "3      Surviving a Narcissistic breakup : The Fear an...  2020-12-12   \n",
       "4                            Love and mental health 2020  2020-12-09   \n",
       "...                                                  ...         ...   \n",
       "20740                         Be Free From All Complexes  2021-04-21   \n",
       "20741                Bad Habits Which Should Be Given Up  2021-04-05   \n",
       "20742                          Ananda Marga A Revolution  2021-04-02   \n",
       "20743                                  An Exemplary Life  2021-03-29   \n",
       "20744                     A Devotee's Object of Ideation  2021-03-10   \n",
       "\n",
       "                                                 Ep_desc  \n",
       "0      This episode helps explain the effects of quar...  \n",
       "1      The Black community has made enormous contribu...  \n",
       "2      With love for seven addressing mental health i...  \n",
       "3      Moving on and healing from an narcissistic   -...  \n",
       "4      Love - relationship, mental health and parenti...  \n",
       "...                                                  ...  \n",
       "20740  By PR Sarkar founder of Ananda MargaDiscourse ...  \n",
       "20741  By PR Sarkar founder of Ananda MargaDiscourse ...  \n",
       "20742  By PR Sarkar founder of Ananda MargaPublished ...  \n",
       "20743  Discourse given by Prabhat Ranjan Sarkar on:Ja...  \n",
       "20744  Discourse given by Prabhat Ranjan Sarkar on:No...  \n",
       "\n",
       "[20745 rows x 5 columns]"
      ]
     },
     "execution_count": 95,
     "metadata": {},
     "output_type": "execute_result"
    }
   ],
   "source": [
    "all_eps"
   ]
  },
  {
   "cell_type": "code",
   "execution_count": 96,
   "id": "97ecded9",
   "metadata": {},
   "outputs": [],
   "source": [
    "#save df to csv\n",
    "all_eps.to_csv('mh_podcasts.csv')"
   ]
  },
  {
   "cell_type": "code",
   "execution_count": 97,
   "id": "08eb6e34",
   "metadata": {},
   "outputs": [],
   "source": [
    "#save df to pickle\n",
    "all_eps.to_pickle('mh_podcasts.pkl')"
   ]
  },
  {
   "cell_type": "markdown",
   "id": "a50cb9e6",
   "metadata": {},
   "source": [
    "#### Other (testing out):\n",
    "    "
   ]
  },
  {
   "cell_type": "code",
   "execution_count": 11,
   "id": "b995ad8d",
   "metadata": {},
   "outputs": [],
   "source": [
    "def get_ep_details(ep_id, market='US'):\n",
    "    info = sp.episode(ep_id, market)\n",
    "    \n",
    "    name = info['name']\n",
    "    desc = info['description']\n",
    "    date = info['release_date']\n",
    "    \n",
    "    ep_info = [name, desc, date]\n",
    "    return ep_info"
   ]
  },
  {
   "cell_type": "code",
   "execution_count": 12,
   "id": "08c0b105",
   "metadata": {},
   "outputs": [
    {
     "data": {
      "text/plain": [
       "['SDS 367: Building Data Pipelines for COVID-19 Modeling',\n",
       " 'Samuel Hinton joins us again for an important and timely discussion on data pipelines and the work he’s doing to aid research on COVID-19 with the COVID-19 Critical Care Consortium. We also talk about his new online courses and his continued research into dark matter.In this episode you will learn:• Sam’s current work and COVID-19 Critical Care Consortium [4:22]• The COVID data science pipeline and workflow [12:50]• Sam’s second online course [36:22]• Bayesian inference [43:06]• Sam at DSGO Virtual [53:30]• Sam’s work on dark matter [1:01:25]• What is Sam reading right now? [1:09:14]Additional materials: www.superdatascience.com/367',\n",
       " '2020-05-20']"
      ]
     },
     "execution_count": 12,
     "metadata": {},
     "output_type": "execute_result"
    }
   ],
   "source": [
    "get_ep_details('0q1cmniEqKWbvrpvDHAxr7')\n"
   ]
  }
 ],
 "metadata": {
  "kernelspec": {
   "display_name": "Python 3 (ipykernel)",
   "language": "python",
   "name": "python3"
  },
  "language_info": {
   "codemirror_mode": {
    "name": "ipython",
    "version": 3
   },
   "file_extension": ".py",
   "mimetype": "text/x-python",
   "name": "python",
   "nbconvert_exporter": "python",
   "pygments_lexer": "ipython3",
   "version": "3.9.7"
  }
 },
 "nbformat": 4,
 "nbformat_minor": 5
}
